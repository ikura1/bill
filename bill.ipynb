{
 "cells": [
  {
   "cell_type": "code",
   "execution_count": 17,
   "metadata": {},
   "outputs": [
    {
     "name": "stdout",
     "output_type": "stream",
     "text": [
      "add : ([3, 0], 10)\n",
      "結果 [3, 3]\n",
      "move : ([5, 0], [3, 3])\n",
      "結果 ([5, 3], [3, 0])\n",
      "add : ([3, 0], 10)\n",
      "結果 [3, 3]\n",
      "move : ([5, 3], [3, 3])\n",
      "結果 ([5, 5], [3, 1])\n",
      "del : ([5, 5],)\n",
      "結果 [5, 0]\n",
      "move : ([5, 0], [3, 1])\n",
      "結果 ([5, 1], [3, 0])\n",
      "add : ([3, 0], 10)\n",
      "結果 [3, 3]\n",
      "move : ([5, 1], [3, 3])\n",
      "結果 ([5, 4], [3, 0])\n",
      "結果:  4\n"
     ]
    }
   ],
   "source": [
    "def deco_print_log(name):\n",
    "    def _print_log(func):\n",
    "        def print_log(*attr):\n",
    "            print(name, ':', attr)\n",
    "            result = func(*attr)\n",
    "            print('結果', result)\n",
    "            return result\n",
    "        return print_log\n",
    "    return _print_log\n",
    "\n",
    "@deco_print_log('del')\n",
    "def del_water(youki):\n",
    "    youki[1] = 0\n",
    "    return youki\n",
    "\n",
    "@deco_print_log('add')\n",
    "def add_water(youki, mizu):\n",
    "    youki[1] += mizu\n",
    "    if youki[1] >= youki[0]:\n",
    "        youki[1] = youki[0]\n",
    "    return youki\n",
    "\n",
    "@deco_print_log('move')\n",
    "def move_youki(i, j):\n",
    "    i[1] += j[1]\n",
    "    if i[1] <= i[0]:\n",
    "        j[1] = 0\n",
    "    else:\n",
    "        sa = i[1] - i[0]\n",
    "        i[1] = i[0]\n",
    "        j[1] = sa\n",
    "    return i, j\n",
    "\n",
    "a = [3, 0]\n",
    "b = [5, 0]\n",
    "a = add_water(a, 10)\n",
    "b, a = move_youki(b, a)\n",
    "a = add_water(a, 10)\n",
    "b, a = move_youki(b, a)\n",
    "b = del_water(b)\n",
    "b, a = move_youki(b, a)\n",
    "a = add_water(a, 10)\n",
    "b, a = move_youki(b, a)\n",
    "\n",
    "print('結果: ', b[1])"
   ]
  },
  {
   "cell_type": "code",
   "execution_count": 23,
   "metadata": {},
   "outputs": [
    {
     "name": "stdout",
     "output_type": "stream",
     "text": [
      "3 0\n",
      "0 3\n",
      "3 3\n",
      "1 5\n",
      "1 0\n",
      "0 1\n",
      "3 1\n",
      "0 4\n"
     ]
    }
   ],
   "source": [
    "class Youki(object):\n",
    "    def __init__(self, limit=None):\n",
    "        self.water = 0\n",
    "        if limit is None:\n",
    "            limit = 0\n",
    "        self.limit = limit\n",
    "\n",
    "    def set_water(self, water):\n",
    "        self.water = water\n",
    "        \n",
    "    def add_water(self, add_water):\n",
    "        sum_water = self.water + add_water\n",
    "        sa_water = 0\n",
    "        if sum_water > self.limit:\n",
    "            self.water = self.limit\n",
    "            sa_water = sum_water - self.limit\n",
    "        else:\n",
    "            self.water = sum_water\n",
    "        return sa_water\n",
    "    \n",
    "    def move_water(self, a_youki):\n",
    "        sa = self.add_water(a_youki.water)\n",
    "        a_youki.set_water(sa)\n",
    "\n",
    "a = Youki(3)\n",
    "b = Youki(5)\n",
    "\n",
    "a.add_water(10)\n",
    "print(a.water, b.water)\n",
    "b.move_water(a)\n",
    "print(a.water, b.water)\n",
    "a.add_water(10)\n",
    "print(a.water, b.water)\n",
    "b.move_water(a)\n",
    "print(a.water, b.water)\n",
    "b.set_water(0)\n",
    "print(a.water, b.water)\n",
    "b.move_water(a)\n",
    "print(a.water, b.water)\n",
    "a.add_water(10)\n",
    "print(a.water, b.water)\n",
    "b.move_water(a)\n",
    "print(a.water, b.water)\n"
   ]
  }
 ],
 "metadata": {
  "kernelspec": {
   "display_name": "Python 3",
   "language": "python",
   "name": "python3"
  },
  "language_info": {
   "codemirror_mode": {
    "name": "ipython",
    "version": 3
   },
   "file_extension": ".py",
   "mimetype": "text/x-python",
   "name": "python",
   "nbconvert_exporter": "python",
   "pygments_lexer": "ipython3",
   "version": "3.6.3"
  }
 },
 "nbformat": 4,
 "nbformat_minor": 2
}
